{
 "nbformat": 4,
 "nbformat_minor": 0,
 "metadata": {
  "colab": {
   "name": "linear optimization",
   "provenance": []
  },
  "kernelspec": {
   "name": "python3",
   "display_name": "Python 3"
  },
  "language_info": {
   "name": "python"
  }
 },
 "cells": [
  {
   "cell_type": "code",
   "source": [
    "from ortools.linear_solver import pywraplp\n",
    "solver = pywraplp.Solver.CreateSolver('SCIP')\n",
    "infinity = solver.infinity()\n",
    "\n",
    "# Variables\n",
    "for i in range(1, 25, 1):\n",
    "  exec(f'x{i} = solver.IntVar(0.0, infinity, \"x{i}\")', globals())\n",
    "  exec(f'y{i} = solver.IntVar(0.0, infinity, \"y{i}\")', globals())\n",
    "  exec(f'z{i} = solver.IntVar(0.0, infinity, \"z{i}\")', globals())\n",
    "\n",
    "X = solver.IntVar(0.0, infinity, \"X\")\n",
    "Y = solver.IntVar(0.0, infinity, \"Y\")\n",
    "Z = solver.IntVar(0.0, infinity, \"Z\")\n",
    "\n",
    "print('Number of variables =', solver.NumVariables())\n",
    "assert solver.NumVariables() == 75"
   ],
   "metadata": {
    "colab": {
     "base_uri": "https://localhost:8080/"
    },
    "id": "4kNz_GYQCRvy",
    "outputId": "cb6f21b5-0c94-4c75-ff45-34f4e08588a3",
    "pycharm": {
     "name": "#%%\n"
    }
   },
   "execution_count": 1,
   "outputs": [
    {
     "name": "stdout",
     "output_type": "stream",
     "text": [
      "Number of variables = 75\n"
     ]
    }
   ]
  },
  {
   "cell_type": "code",
   "execution_count": 2,
   "outputs": [
    {
     "name": "stdout",
     "output_type": "stream",
     "text": [
      "Number of constraints = 168\n"
     ]
    }
   ],
   "source": [
    "# Constraints\n",
    "\n",
    "# 0*x1 + 1*x2 + 1*x3 + 1*x4 ... -21X <=0\n",
    "# 0*y1 + 0*y2 + 0*y3 + 0*y4 + 0*y5... -9Y <=0\n",
    "# 0*z1 + 0*z2 + 0*z3 + 0*z4 + 0*z5 + 0*z6 + 1*z7... -8Z <=0\n",
    "# Cycle above 24 times, each time move the 0s forward by 1, x: 1 0, y: 13 1, z: 14 0\n",
    "\n",
    "x_no_0 = 1\n",
    "y_no_0 = 13\n",
    "z_no_0 = 14\n",
    "\n",
    "for i in range(24):\n",
    "  # Make cyclic zero masks\n",
    "  multiply_x = [1] * 24\n",
    "  multiply_y = [1] * 24\n",
    "  multiply_z = [1] * 24\n",
    "  if i + x_no_0 <= 24:\n",
    "    multiply_x[i:i + x_no_0] = [0] * x_no_0\n",
    "  else:  # fill rest of list with 0 first then cycle back to front\n",
    "    multiply_x[i:] = [0] * (24 - i)\n",
    "    multiply_x[:i + x_no_0 - 24] = [0] * (i + x_no_0 - 24)\n",
    "\n",
    "  if i + y_no_0 <= 24:\n",
    "    multiply_y[i:i + y_no_0] = [0] * y_no_0\n",
    "  else:\n",
    "    multiply_y[i:] = [0] * (24 - i)\n",
    "    multiply_y[:i + y_no_0 - 24] = [0] * (i + y_no_0 - 24)\n",
    "\n",
    "  if i + z_no_0 <= 24:\n",
    "    multiply_z[i:i + z_no_0] = [0] * z_no_0\n",
    "  else:\n",
    "    multiply_z[i:] = [0] * (24 - i)\n",
    "    multiply_z[:i + z_no_0 - 24] = [0] * (i + z_no_0 - 24)\n",
    "\n",
    "  # Add the constraints\n",
    "  # Total constraints for this: 24*3 = 72\n",
    "  x_sum_expr_code = [f'x{j+1} * multiply_x[{j}]' for j in range(24)]\n",
    "  exec(f'solver.Add(solver.Sum([{\",\".join(x_sum_expr_code)}]) <= 21*X)', globals())\n",
    "  y_sum_expr_code = [f'y{j+1} * multiply_y[{j}]' for j in range(24)]\n",
    "  exec(f'solver.Add(solver.Sum([{\",\".join(y_sum_expr_code)}]) <= 9*Y)', globals())\n",
    "  z_sum_expr_code = [f'z{j+1} * multiply_z[{j}]' for j in range(24)]\n",
    "  exec(f'solver.Add(solver.Sum([{\",\".join(z_sum_expr_code)}]) <= 8*Z)', globals())\n",
    "\n",
    "# xi <= X for all x\n",
    "# yi <= Y for all y\n",
    "# zi <= Z for all z\n",
    "# Total constraints for this: 24*3 = 72\n",
    "for i in range(1, 25, 1):\n",
    "  exec(f'solver.Add(x{i} <= X)', globals())\n",
    "  exec(f'solver.Add(y{i} <= Y)', globals())\n",
    "  exec(f'solver.Add(z{i} <= Z)', globals())\n",
    "\n",
    "# x1+y1+z1 = K, for var1...24\n",
    "# Total constraints for this: 24\n",
    "K = [172,205,201,190,170,205,173,179,176,200,199,199,190,208,194,184,208,209,195,193,197,207,209,188]\n",
    "i = 0\n",
    "for k in K:\n",
    "  i += 1\n",
    "  exec(f'solver.Add(solver.Sum([x{i}, y{i}, z{i}]) == k)', globals())\n",
    "\n",
    "print('Number of constraints =', solver.NumConstraints())\n",
    "assert solver.NumConstraints() == 72 * 2 + 24"
   ],
   "metadata": {
    "collapsed": false,
    "pycharm": {
     "name": "#%%\n"
    }
   }
  },
  {
   "cell_type": "code",
   "execution_count": 3,
   "outputs": [],
   "source": [
    "solver.Minimize(10400 * X + 9000 * Y + 8200 * Z)\n",
    "status = solver.Solve()"
   ],
   "metadata": {
    "collapsed": false,
    "pycharm": {
     "name": "#%%\n"
    }
   }
  },
  {
   "cell_type": "code",
   "execution_count": 4,
   "outputs": [
    {
     "name": "stdout",
     "output_type": "stream",
     "text": [
      "Solution:\n",
      "Objective value = 2049200\n",
      "x1 = 1\n",
      "y1 = 21\n",
      "z1 = 150\n",
      "x2 = 1\n",
      "y2 = 27\n",
      "z2 = 177\n",
      "x3 = 0\n",
      "y3 = 22\n",
      "z3 = 179\n",
      "x4 = 0\n",
      "y4 = 27\n",
      "z4 = 163\n",
      "x5 = 0\n",
      "y5 = 0\n",
      "z5 = 170\n",
      "x6 = 0\n",
      "y6 = 15\n",
      "z6 = 190\n",
      "x7 = 0\n",
      "y7 = 24\n",
      "z7 = 149\n",
      "x8 = 0\n",
      "y8 = 0\n",
      "z8 = 179\n",
      "x9 = 0\n",
      "y9 = 9\n",
      "z9 = 167\n",
      "x10 = 0\n",
      "y10 = 26\n",
      "z10 = 174\n",
      "x11 = 1\n",
      "y11 = 27\n",
      "z11 = 171\n",
      "x12 = 1\n",
      "y12 = 20\n",
      "z12 = 178\n",
      "x13 = 1\n",
      "y13 = 1\n",
      "z13 = 188\n",
      "x14 = 1\n",
      "y14 = 21\n",
      "z14 = 186\n",
      "x15 = 1\n",
      "y15 = 27\n",
      "z15 = 166\n",
      "x16 = 1\n",
      "y16 = 22\n",
      "z16 = 161\n",
      "x17 = 1\n",
      "y17 = 27\n",
      "z17 = 180\n",
      "x18 = 1\n",
      "y18 = 27\n",
      "z18 = 181\n",
      "x19 = 1\n",
      "y19 = 27\n",
      "z19 = 167\n",
      "x20 = 1\n",
      "y20 = 18\n",
      "z20 = 174\n",
      "x21 = 1\n",
      "y21 = 26\n",
      "z21 = 170\n",
      "x22 = 1\n",
      "y22 = 27\n",
      "z22 = 179\n",
      "x23 = 1\n",
      "y23 = 20\n",
      "z23 = 188\n",
      "x24 = 1\n",
      "y24 = 1\n",
      "z24 = 186\n",
      "X = 1\n",
      "Y = 27\n",
      "Z = 219\n",
      "Problem solved in 132 milliseconds\n"
     ]
    }
   ],
   "source": [
    "if status == pywraplp.Solver.OPTIMAL:\n",
    "    print('Solution:')\n",
    "    print('Objective value =', round(solver.Objective().Value()))\n",
    "    for i in range(1, 25, 1):\n",
    "        exec(f'print(\"x{i} =\", int(x{i}.solution_value()))', globals())\n",
    "        exec(f'print(\"y{i} =\", int(y{i}.solution_value()))', globals())\n",
    "        exec(f'print(\"z{i} =\", int(z{i}.solution_value()))', globals())\n",
    "    print('X =', int(X.solution_value()))\n",
    "    print('Y =', int(Y.solution_value()))\n",
    "    print('Z =', int(Z.solution_value()))\n",
    "    print(f'Problem solved in {solver.wall_time()} milliseconds')\n",
    "else:\n",
    "    print('The problem does not have an optimal solution.')"
   ],
   "metadata": {
    "collapsed": false,
    "pycharm": {
     "name": "#%%\n"
    }
   }
  }
 ]
}